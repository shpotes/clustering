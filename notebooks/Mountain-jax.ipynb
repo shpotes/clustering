{
 "cells": [
  {
   "cell_type": "code",
   "execution_count": 1,
   "metadata": {},
   "outputs": [],
   "source": [
    "from functools import partial\n",
    "import jax\n",
    "import jax.numpy as jnp\n",
    "from jax.ops import index, index_update\n",
    "import numpy as onp\n",
    "import matplotlib.pyplot as plt"
   ]
  },
  {
   "cell_type": "code",
   "execution_count": 2,
   "metadata": {},
   "outputs": [],
   "source": [
    "@jax.jit\n",
    "def initialize(X):\n",
    "    # TODO: extend to high dimensional settings\n",
    "    x_min, y_min = X.min(axis=0)\n",
    "    x_max, y_max = X.max(axis=0)\n",
    "\n",
    "    xx = jnp.linspace(x_min, x_max, 10)\n",
    "    yy = jnp.linspace(y_min, y_max, 10)\n",
    "\n",
    "    prototypes = jnp.stack(jnp.meshgrid(xx, yy))\n",
    "    num_dims = prototypes.shape[0]\n",
    "\n",
    "    prototypes = prototypes[jnp.newaxis, ...]\n",
    "    X = jnp.expand_dims(X, axis=tuple(range(2, num_dims + 2)))\n",
    "    \n",
    "    return prototypes, X"
   ]
  },
  {
   "cell_type": "code",
   "execution_count": 3,
   "metadata": {},
   "outputs": [],
   "source": [
    "@partial(jax.jit, static_argnums=(2, 3,))\n",
    "def mountain_function(prototypes, x, norm_ord, sigma):\n",
    "    points_norm = jnp.linalg.norm(x, ord=2, axis=1)\n",
    "    grid_norm = np.linalg.norm(prototypes, ord=2, axis=1)\n",
    "    \n",
    "    cosine = (x * prototypes).sum(axis=1) / (points_norm * grid_norm)\n",
    "    \n",
    "    return jnp.exp(cosine / (2 * sigma ** 2)).sum(axis=0)"
   ]
  },
  {
   "cell_type": "code",
   "execution_count": 18,
   "metadata": {},
   "outputs": [
    {
     "name": "stdout",
     "output_type": "stream",
     "text": [
      "proto (1, 2, 1, 1)\n",
      "x (5, 2, 1, 1)\n",
      "dif (5, 2, 1, 1)\n",
      "norm (5, 1, 1)\n",
      "res (1, 1)\n"
     ]
    }
   ],
   "source": [
    "prototypes, x, norm_ord, sigma = cluster, X, norm_ord, sigma\n",
    "\n",
    "norm = partial(jnp.linalg.norm, ord=norm_ord)\n",
    "print('proto', prototypes.shape)\n",
    "print('x', x.shape)\n",
    "print('dif', (prototypes - x).shape)\n",
    "print('norm', norm((prototypes - x), axis=1).shape)\n",
    "print('res', jnp.exp(-norm((prototypes - x), axis=1) / (2 * sigma ** 2)).sum(axis=0).shape)"
   ]
  },
  {
   "cell_type": "code",
   "execution_count": 4,
   "metadata": {},
   "outputs": [],
   "source": [
    "@jax.jit\n",
    "def get_cluster(prototypes, prototypes_density):\n",
    "    num_dims = prototypes.shape[1]\n",
    "    cluster_id = jnp.unravel_index(\n",
    "        jnp.argmax(prototypes_density),\n",
    "        prototypes_density.shape\n",
    "    )\n",
    "    cluster = prototypes[(0, tuple(range(num_dims)), *cluster_id)]\n",
    "    cluster = jnp.expand_dims(cluster, axis=tuple(range(1, num_dims + 1)))[jnp.newaxis, ...]\n",
    "    return cluster, prototypes_density[cluster_id]"
   ]
  },
  {
   "cell_type": "code",
   "execution_count": 5,
   "metadata": {},
   "outputs": [],
   "source": [
    "@partial(jax.jit, static_argnums=(0, 1))\n",
    "def stop(thresh, initial_state, state):\n",
    "    return (state[-1] / initial_state[-1]) > thresh"
   ]
  },
  {
   "cell_type": "code",
   "execution_count": 19,
   "metadata": {},
   "outputs": [],
   "source": [
    "@partial(jax.jit, static_argnums=(0,))\n",
    "def mountain_update(params, val):\n",
    "    prototypes, clusters, X, idx, prototypes_density, cluster_density = val\n",
    "    norm_ord, sigma, beta = params\n",
    "    num_dims = prototypes.shape[1]\n",
    "    \n",
    "    cluster = jnp.expand_dims(\n",
    "        clusters[idx],\n",
    "        tuple(range(1, num_dims + 1))\n",
    "    )[jnp.newaxis, ...]\n",
    "\n",
    "    idx += 1\n",
    "    \n",
    "    cluster_mass = jnp.exp(\n",
    "        -jnp.linalg.norm(\n",
    "            prototypes[0] - cluster[0],\n",
    "            ord=norm_ord, axis=0\n",
    "        ) / (2 * beta ** 2)\n",
    "    )\n",
    "\n",
    "    near_cluster_density = mountain_function(cluster, X, norm_ord, sigma) * cluster_mass\n",
    "    \n",
    "    new_prototypes_density = prototypes_density - near_cluster_density\n",
    "    new_cluster, cluster_density = get_cluster(prototypes, new_prototypes_density)\n",
    "    clusters = index_update(clusters, index[idx], jnp.squeeze(new_cluster))\n",
    "    \n",
    "    val = (prototypes, clusters, X, idx, new_prototypes_density, cluster_density)\n",
    "\n",
    "    return val"
   ]
  },
  {
   "cell_type": "code",
   "execution_count": 20,
   "metadata": {},
   "outputs": [],
   "source": [
    "@partial(jax.jit, static_argnums=(1, 2, 3, 4))\n",
    "def mountain_run(X, norm_ord, sigma, beta, thresh):\n",
    "    prototypes, X = initialize(X)\n",
    "    prototypes_density = mountain_function(prototypes, X, norm_ord, sigma)\n",
    "    cluster, cluster_density = get_cluster(prototypes, prototypes_density)\n",
    "\n",
    "    idx = 0\n",
    "    params = (norm_ord, sigma, beta)\n",
    "    \n",
    "    clusters = jnp.squeeze(jnp.zeros_like(X)) + jnp.nan\n",
    "     \n",
    "    clusters = index_update(\n",
    "        clusters, \n",
    "        index[idx],\n",
    "        jnp.squeeze(cluster)\n",
    "    )\n",
    "    \n",
    "    val = (prototypes, clusters, X, idx, prototypes_density, cluster_density)\n",
    "    \n",
    "    return mountain_update(params, val)\n",
    "    \n",
    "    #initial_state = (val, params, clusters, idx, cluster_density)\n",
    "    #state = initial_state\n",
    "    \n",
    "    #return val, params\n",
    "    \n",
    "    state = jax.lax.while_loop(\n",
    "        partial(stop, thresh, val),\n",
    "        partial(mountain_update, params),\n",
    "        val\n",
    "    )\n",
    "\n",
    "    return state"
   ]
  },
  {
   "cell_type": "code",
   "execution_count": 21,
   "metadata": {},
   "outputs": [],
   "source": [
    "X1 = onp.random.normal([1, 10], 0.05, size=(2, 2))\n",
    "y1 = onp.zeros(2)\n",
    "X2 = onp.random.normal([3, 5], 0.01, size=(3, 2))\n",
    "y2 = onp.ones(3)\n",
    "\n",
    "X = onp.vstack([X1, X2])\n",
    "y = onp.concatenate([y1, y2])\n",
    "\n",
    "idxs = onp.arange(5)\n",
    "onp.random.shuffle(idxs)\n",
    "X = X[idxs]\n",
    "y = y[idxs]\n",
    "\n",
    "X = jnp.array(X)\n",
    "y = jnp.array(y)"
   ]
  },
  {
   "cell_type": "code",
   "execution_count": 22,
   "metadata": {},
   "outputs": [],
   "source": [
    "prototypes, cluster, beta = mountain_run(X, 1, 0.1, 0.1, 0.1)"
   ]
  },
  {
   "cell_type": "code",
   "execution_count": 36,
   "metadata": {},
   "outputs": [
    {
     "data": {
      "text/plain": [
       "(10, 10)"
      ]
     },
     "execution_count": 36,
     "metadata": {},
     "output_type": "execute_result"
    }
   ],
   "source": [
    "prototype_norm = jnp.linalg.norm(prototypes[0], ord=2, axis=0)\n",
    "cluster_norm = jnp.linalg.norm(cluster[0], ord=2, axis=0)\n",
    "\n",
    "cluster_mass = jnp.exp(\n",
    "    -jnp.sum(\n",
    "        prototypes[0] * cluster[0], axis=0\n",
    "    ) / (cluster_norm * prototype_norm) / (2 * beta ** 2)\n",
    ")\n",
    "\n",
    "cluster_mass.shape"
   ]
  },
  {
   "cell_type": "code",
   "execution_count": 11,
   "metadata": {},
   "outputs": [
    {
     "name": "stdout",
     "output_type": "stream",
     "text": [
      "Traced<ShapedArray(float32[]):JaxprTrace(level=0/1)>\n"
     ]
    },
    {
     "data": {
      "text/plain": [
       "(DeviceArray([[[[ 0.9700386,  1.1959361,  1.4218336,  1.6477311,\n",
       "                  1.8736286,  2.0995262,  2.3254237,  2.551321 ,\n",
       "                  2.7772188,  3.0031161],\n",
       "                [ 0.9700386,  1.1959361,  1.4218336,  1.6477311,\n",
       "                  1.8736286,  2.0995262,  2.3254237,  2.551321 ,\n",
       "                  2.7772188,  3.0031161],\n",
       "                [ 0.9700386,  1.1959361,  1.4218336,  1.6477311,\n",
       "                  1.8736286,  2.0995262,  2.3254237,  2.551321 ,\n",
       "                  2.7772188,  3.0031161],\n",
       "                [ 0.9700386,  1.1959361,  1.4218336,  1.6477311,\n",
       "                  1.8736286,  2.0995262,  2.3254237,  2.551321 ,\n",
       "                  2.7772188,  3.0031161],\n",
       "                [ 0.9700386,  1.1959361,  1.4218336,  1.6477311,\n",
       "                  1.8736286,  2.0995262,  2.3254237,  2.551321 ,\n",
       "                  2.7772188,  3.0031161],\n",
       "                [ 0.9700386,  1.1959361,  1.4218336,  1.6477311,\n",
       "                  1.8736286,  2.0995262,  2.3254237,  2.551321 ,\n",
       "                  2.7772188,  3.0031161],\n",
       "                [ 0.9700386,  1.1959361,  1.4218336,  1.6477311,\n",
       "                  1.8736286,  2.0995262,  2.3254237,  2.551321 ,\n",
       "                  2.7772188,  3.0031161],\n",
       "                [ 0.9700386,  1.1959361,  1.4218336,  1.6477311,\n",
       "                  1.8736286,  2.0995262,  2.3254237,  2.551321 ,\n",
       "                  2.7772188,  3.0031161],\n",
       "                [ 0.9700386,  1.1959361,  1.4218336,  1.6477311,\n",
       "                  1.8736286,  2.0995262,  2.3254237,  2.551321 ,\n",
       "                  2.7772188,  3.0031161],\n",
       "                [ 0.9700386,  1.1959361,  1.4218336,  1.6477311,\n",
       "                  1.8736286,  2.0995262,  2.3254237,  2.551321 ,\n",
       "                  2.7772188,  3.0031161]],\n",
       " \n",
       "               [[ 4.987987 ,  4.987987 ,  4.987987 ,  4.987987 ,\n",
       "                  4.987987 ,  4.987987 ,  4.987987 ,  4.987987 ,\n",
       "                  4.987987 ,  4.987987 ],\n",
       "                [ 5.547185 ,  5.547185 ,  5.547185 ,  5.547185 ,\n",
       "                  5.547185 ,  5.547185 ,  5.547185 ,  5.547185 ,\n",
       "                  5.547185 ,  5.547185 ],\n",
       "                [ 6.106383 ,  6.106383 ,  6.106383 ,  6.106383 ,\n",
       "                  6.106383 ,  6.106383 ,  6.106383 ,  6.106383 ,\n",
       "                  6.106383 ,  6.106383 ],\n",
       "                [ 6.6655807,  6.6655807,  6.6655807,  6.6655807,\n",
       "                  6.6655807,  6.6655807,  6.6655807,  6.6655807,\n",
       "                  6.6655807,  6.6655807],\n",
       "                [ 7.2247787,  7.2247787,  7.2247787,  7.2247787,\n",
       "                  7.2247787,  7.2247787,  7.2247787,  7.2247787,\n",
       "                  7.2247787,  7.2247787],\n",
       "                [ 7.783977 ,  7.783977 ,  7.783977 ,  7.783977 ,\n",
       "                  7.783977 ,  7.783977 ,  7.783977 ,  7.783977 ,\n",
       "                  7.783977 ,  7.783977 ],\n",
       "                [ 8.343175 ,  8.343175 ,  8.343175 ,  8.343175 ,\n",
       "                  8.343175 ,  8.343175 ,  8.343175 ,  8.343175 ,\n",
       "                  8.343175 ,  8.343175 ],\n",
       "                [ 8.902372 ,  8.902372 ,  8.902372 ,  8.902372 ,\n",
       "                  8.902372 ,  8.902372 ,  8.902372 ,  8.902372 ,\n",
       "                  8.902372 ,  8.902372 ],\n",
       "                [ 9.461571 ,  9.461571 ,  9.461571 ,  9.461571 ,\n",
       "                  9.461571 ,  9.461571 ,  9.461571 ,  9.461571 ,\n",
       "                  9.461571 ,  9.461571 ],\n",
       "                [10.020768 , 10.020768 , 10.020768 , 10.020768 ,\n",
       "                 10.020768 , 10.020768 , 10.020768 , 10.020768 ,\n",
       "                 10.020768 , 10.020768 ]]]], dtype=float32),\n",
       " DeviceArray([[ 3.0031161,  4.987987 ],\n",
       "              [ 0.9700386, 10.020768 ],\n",
       "              [ 1.1959361, 10.020768 ],\n",
       "              [       nan,        nan],\n",
       "              [       nan,        nan]], dtype=float32),\n",
       " DeviceArray([[[[ 2.9881685]],\n",
       " \n",
       "               [[ 5.0132937]]],\n",
       " \n",
       " \n",
       "              [[[ 3.0031161]],\n",
       " \n",
       "               [[ 5.00386  ]]],\n",
       " \n",
       " \n",
       "              [[[ 2.994393 ]],\n",
       " \n",
       "               [[ 4.987987 ]]],\n",
       " \n",
       " \n",
       "              [[[ 1.088614 ]],\n",
       " \n",
       "               [[ 9.964747 ]]],\n",
       " \n",
       " \n",
       "              [[[ 0.9700386]],\n",
       " \n",
       "               [[10.020768 ]]]], dtype=float32),\n",
       " DeviceArray(2, dtype=int32),\n",
       " DeviceArray([[0.00000000e+00, 0.00000000e+00, 6.26859913e-35,\n",
       "               5.04049683e-30, 4.05298910e-25, 3.25894912e-20,\n",
       "               2.62047472e-15, 2.10706660e-10, 1.69428386e-05,\n",
       "               0.00000000e+00],\n",
       "              [0.00000000e+00, 0.00000000e+00, 0.00000000e+00,\n",
       "               0.00000000e+00, 2.14325035e-36, 1.72335912e-31,\n",
       "               1.38573279e-26, 1.11423531e-21, 8.95953931e-17,\n",
       "               2.37815713e-12],\n",
       "              [0.00000000e+00, 0.00000000e+00, 0.00000000e+00,\n",
       "               0.00000000e+00, 0.00000000e+00, 0.00000000e+00,\n",
       "               0.00000000e+00, 8.01954572e-34, 6.44850095e-29,\n",
       "               1.71164022e-24],\n",
       "              [0.00000000e+00, 0.00000000e+00, 0.00000000e+00,\n",
       "               0.00000000e+00, 0.00000000e+00, 0.00000000e+00,\n",
       "               0.00000000e+00, 0.00000000e+00, 0.00000000e+00,\n",
       "               1.23192610e-36],\n",
       "              [0.00000000e+00, 0.00000000e+00, 0.00000000e+00,\n",
       "               0.00000000e+00, 0.00000000e+00, 0.00000000e+00,\n",
       "               0.00000000e+00, 0.00000000e+00, 0.00000000e+00,\n",
       "               0.00000000e+00],\n",
       "              [0.00000000e+00, 0.00000000e+00, 0.00000000e+00,\n",
       "               0.00000000e+00, 0.00000000e+00, 0.00000000e+00,\n",
       "               0.00000000e+00, 0.00000000e+00, 0.00000000e+00,\n",
       "               0.00000000e+00],\n",
       "              [1.62766282e-38, 2.86767295e-38, 0.00000000e+00,\n",
       "               0.00000000e+00, 0.00000000e+00, 0.00000000e+00,\n",
       "               0.00000000e+00, 0.00000000e+00, 0.00000000e+00,\n",
       "               0.00000000e+00],\n",
       "              [2.26143064e-26, 3.98426526e-26, 4.95500679e-31,\n",
       "               6.16233327e-36, 0.00000000e+00, 0.00000000e+00,\n",
       "               0.00000000e+00, 0.00000000e+00, 0.00000000e+00,\n",
       "               0.00000000e+00],\n",
       "              [3.14209819e-14, 5.53589191e-14, 6.88468990e-19,\n",
       "               8.56216689e-24, 1.06482849e-28, 1.32427245e-33,\n",
       "               1.64692927e-38, 0.00000000e+00, 0.00000000e+00,\n",
       "               0.00000000e+00],\n",
       "              [0.00000000e+00, 2.83826055e-04, 3.52979490e-09,\n",
       "               4.38984075e-14, 5.45940807e-19, 6.78958461e-24,\n",
       "               8.44382396e-29, 1.05013091e-33, 1.30598312e-38,\n",
       "               0.00000000e+00]], dtype=float32),\n",
       " DeviceArray(0.00028383, dtype=float32))"
      ]
     },
     "execution_count": 11,
     "metadata": {},
     "output_type": "execute_result"
    }
   ],
   "source": [
    "jax.lax.while_loop(\n",
    "    partial(stop, 0.3, state),\n",
    "    partial(mountain_update, params),\n",
    "    state\n",
    ")"
   ]
  },
  {
   "cell_type": "code",
   "execution_count": null,
   "metadata": {},
   "outputs": [],
   "source": []
  },
  {
   "cell_type": "code",
   "execution_count": null,
   "metadata": {},
   "outputs": [],
   "source": []
  }
 ],
 "metadata": {
  "kernelspec": {
   "display_name": "Python 3",
   "language": "python",
   "name": "python3"
  },
  "language_info": {
   "codemirror_mode": {
    "name": "ipython",
    "version": 3
   },
   "file_extension": ".py",
   "mimetype": "text/x-python",
   "name": "python",
   "nbconvert_exporter": "python",
   "pygments_lexer": "ipython3",
   "version": "3.8.2"
  }
 },
 "nbformat": 4,
 "nbformat_minor": 4
}
