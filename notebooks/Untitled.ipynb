{
 "cells": [
  {
   "cell_type": "markdown",
   "metadata": {},
   "source": [
    "# Fuzzy c-means\n",
    "* Initialize U :: (c, n) s.t. U.sum(axis=0) == 1\n",
    "* Calculate C :: (c, d)\n",
    "* Compute the cost\n",
    "* New U"
   ]
  },
  {
   "cell_type": "code",
   "execution_count": 1,
   "metadata": {},
   "outputs": [],
   "source": [
    "from functools import partial\n",
    "\n",
    "import jax.numpy as jnp\n",
    "import jax\n",
    "import numpy as onp\n",
    "from sklearn import datasets"
   ]
  },
  {
   "cell_type": "code",
   "execution_count": 9,
   "metadata": {},
   "outputs": [],
   "source": [
    "@partial(jax.jit, static_argnums=(2,))\n",
    "def get_cluster(points, membership, m):\n",
    "    return jnp.sum(\n",
    "        membership[..., jnp.newaxis] ** m * points, axis=1\n",
    "    ) / jnp.sum(membership, axis=1)[0]"
   ]
  },
  {
   "cell_type": "code",
   "execution_count": 10,
   "metadata": {},
   "outputs": [],
   "source": [
    "@partial(jax.jit, static_argnums=(0,))\n",
    "def improve_membership(params, val):\n",
    "    membership, points, _, old_cost = val    \n",
    "    norm_ord, m = params\n",
    "    \n",
    "    cluster = get_cluster(points, membership, m)\n",
    "\n",
    "    c, num_dims = cluster.shape\n",
    "\n",
    "    dist = jnp.linalg.norm(\n",
    "        (cluster.reshape(c, 1, num_dims) - x),\n",
    "        ord=norm_ord, axis=2\n",
    "    )\n",
    "\n",
    "    new_cost = jnp.sum(membership ** m * dist ** 2)\n",
    "\n",
    "    tmp_dist = dist ** (2 / (m - 1))\n",
    "    tmp_dist /= tmp_dist.sum(axis=0)\n",
    "    new_membership = 1 / tmp_dist\n",
    "    new_membership /= new_membership.sum(axis=0)\n",
    "\n",
    "    return new_membership, points, old_cost, new_cost"
   ]
  },
  {
   "cell_type": "code",
   "execution_count": 14,
   "metadata": {},
   "outputs": [],
   "source": [
    "@partial(jax.jit, static_argnums=(2, 4, 3))\n",
    "def cmeans(key, points, c, norm_ord=2, tol=1e-5):\n",
    "    num_samples, num_dims = points.shape\n",
    "    \n",
    "    membership = jax.random.uniform(key, (c, num_samples))\n",
    "    membership /= membership.sum(axis=0)\n",
    "    \n",
    "    initial_val = (membership, points, jnp.inf, 0.)\n",
    "    params = (c, norm_ord)\n",
    "    \n",
    "    state = jax.lax.while_loop(\n",
    "        lambda val: abs(val[-1] - val[-2]) > tol,\n",
    "        partial(improve_membership, params),\n",
    "        initial_val\n",
    "    )\n",
    "    \n",
    "    membership, points, other, cost = state\n",
    "    cluster = get_cluster(points, membership, m)\n",
    "    \n",
    "    return cluster, membership, points, cost"
   ]
  },
  {
   "cell_type": "code",
   "execution_count": null,
   "metadata": {},
   "outputs": [],
   "source": [
    "X1 = onp.random.normal([1, 10], 0.05, size=(2, 2))\n",
    "y1 = onp.zeros(2)\n",
    "X2 = onp.random.normal([3, 5], 0.01, size=(3, 2))\n",
    "y2 = onp.ones(3)\n",
    "\n",
    "X = onp.vstack([X1, X2])\n",
    "y = onp.concatenate([y1, y2])\n",
    "\n",
    "idxs = onp.arange(5)\n",
    "onp.random.shuffle(idxs)\n",
    "X = X[idxs]\n",
    "y = y[idxs]\n",
    "\n",
    "x = jnp.array(X)\n",
    "y = jnp.array(y)"
   ]
  },
  {
   "cell_type": "code",
   "execution_count": 13,
   "metadata": {},
   "outputs": [
    {
     "data": {
      "text/plain": [
       "(DeviceArray([[1.7760717e+00, 4.9881673e+00],\n",
       "              [1.8960817e-04, 1.5658026e-03]], dtype=float32),\n",
       " DeviceArray([[0.8619992 , 0.8659331 , 0.9348949 , 0.9366297 , 0.9362057 ],\n",
       "              [0.13800086, 0.13406691, 0.06510515, 0.06337035, 0.06379431]],            dtype=float32),\n",
       " DeviceArray([[ 1.0000064, 10.024741 ],\n",
       "              [ 1.0691454,  9.945861 ],\n",
       "              [ 3.0004535,  4.983425 ],\n",
       "              [ 2.9855025,  4.99777  ],\n",
       "              [ 3.0103474,  5.004288 ]], dtype=float32),\n",
       " DeviceArray(33.22462, dtype=float32),\n",
       " DeviceArray(33.224625, dtype=float32))"
      ]
     },
     "execution_count": 13,
     "metadata": {},
     "output_type": "execute_result"
    }
   ],
   "source": [
    "c = 2\n",
    "m = 4\n",
    "\n",
    "key = jax.random.PRNGKey(onp.random.randint(0, 1000))\n",
    "\n",
    "cmeans(key, x, c, 2, 1e-5)"
   ]
  },
  {
   "cell_type": "code",
   "execution_count": null,
   "metadata": {},
   "outputs": [],
   "source": []
  }
 ],
 "metadata": {
  "kernelspec": {
   "display_name": "Python 3",
   "language": "python",
   "name": "python3"
  },
  "language_info": {
   "codemirror_mode": {
    "name": "ipython",
    "version": 3
   },
   "file_extension": ".py",
   "mimetype": "text/x-python",
   "name": "python",
   "nbconvert_exporter": "python",
   "pygments_lexer": "ipython3",
   "version": "3.8.2"
  }
 },
 "nbformat": 4,
 "nbformat_minor": 4
}
