{
 "cells": [
  {
   "cell_type": "code",
   "execution_count": 1,
   "metadata": {},
   "outputs": [
    {
     "name": "stdout",
     "output_type": "stream",
     "text": [
      "/home/shpotes/Courses/EAFIT/inteligencia-artificial/santiago/clustering/clustering\n"
     ]
    }
   ],
   "source": [
    "%cd ../../"
   ]
  },
  {
   "cell_type": "code",
   "execution_count": 2,
   "metadata": {},
   "outputs": [],
   "source": [
    "import pathlib\n",
    "import pandas as pd\n",
    "import numpy as np\n",
    "import optuna\n",
    "from src import Substractive, KMeansPlusPlus\n",
    "from sklearn.metrics import davies_bouldin_score, calinski_harabasz_score, silhouette_score"
   ]
  },
  {
   "cell_type": "code",
   "execution_count": 3,
   "metadata": {},
   "outputs": [],
   "source": [
    "data_dir = pathlib.Path('data/retuers')\n",
    "news = pd.read_csv(data_dir / 'raw.csv')\n",
    "w2v_md = np.load(data_dir / 'en-core-md-representations.npy')"
   ]
  },
  {
   "cell_type": "code",
   "execution_count": 4,
   "metadata": {},
   "outputs": [
    {
     "name": "stderr",
     "output_type": "stream",
     "text": [
      "/home/shpotes/.cache/pypoetry/virtualenvs/clustering-tBf8LVkM-py3.8/lib/python3.8/site-packages/jax/lib/xla_bridge.py:130: UserWarning: No GPU/TPU found, falling back to CPU.\n",
      "  warnings.warn('No GPU/TPU found, falling back to CPU.')\n"
     ]
    }
   ],
   "source": [
    "r_a = 2 #trail.suggest_uniform('r_a', 1e-2, 1e2)\n",
    "\n",
    "sub = Substractive(r_a=r_a, tol=0.01)\n",
    "labels = sub.fit_predict(w2v_md)"
   ]
  },
  {
   "cell_type": "code",
   "execution_count": 5,
   "metadata": {},
   "outputs": [],
   "source": [
    "def objective(trail):\n",
    "    r_a = trail.suggest_loguniform('r_a', 1e-1, 1e1)\n",
    "    sub = Substractive(r_a=r_a, tol=0.01)\n",
    "    labels = sub.fit_predict(w2v_md)\n",
    "    \n",
    "    if len(np.unique(labels)) == 1:\n",
    "        return -2\n",
    "\n",
    "    return davies_bouldin_score(w2v_md, labels)"
   ]
  },
  {
   "cell_type": "code",
   "execution_count": 6,
   "metadata": {},
   "outputs": [
    {
     "name": "stderr",
     "output_type": "stream",
     "text": [
      "[I 2020-09-20 19:06:04,239] A new study created in memory with name: no-name-706afc99-7b9f-4c1f-ab20-ff5d070399f2\n",
      "[I 2020-09-20 19:06:06,565] Trial 0 finished with value: -2.0 and parameters: {'r_a': 0.5646187481058749}. Best is trial 0 with value: -2.0.\n",
      "[I 2020-09-20 19:06:08,823] Trial 1 finished with value: -2.0 and parameters: {'r_a': 5.1165110911194525}. Best is trial 0 with value: -2.0.\n",
      "[I 2020-09-20 19:06:10,838] Trial 2 finished with value: -2.0 and parameters: {'r_a': 0.6833049007955353}. Best is trial 0 with value: -2.0.\n",
      "[I 2020-09-20 19:06:12,926] Trial 3 finished with value: -2.0 and parameters: {'r_a': 0.17762851524757003}. Best is trial 0 with value: -2.0.\n",
      "[I 2020-09-20 19:06:14,971] Trial 4 finished with value: -2.0 and parameters: {'r_a': 0.723432868080692}. Best is trial 0 with value: -2.0.\n",
      "[I 2020-09-20 19:06:17,040] Trial 5 finished with value: -2.0 and parameters: {'r_a': 3.1003973678023287}. Best is trial 0 with value: -2.0.\n",
      "[I 2020-09-20 19:06:19,004] Trial 6 finished with value: -2.0 and parameters: {'r_a': 0.4607120394903574}. Best is trial 0 with value: -2.0.\n",
      "[I 2020-09-20 19:06:21,127] Trial 7 finished with value: -2.0 and parameters: {'r_a': 9.533889336896294}. Best is trial 0 with value: -2.0.\n",
      "[I 2020-09-20 19:06:23,125] Trial 8 finished with value: -2.0 and parameters: {'r_a': 0.14967268300139394}. Best is trial 0 with value: -2.0.\n",
      "[I 2020-09-20 19:06:25,133] Trial 9 finished with value: -2.0 and parameters: {'r_a': 7.422929888652626}. Best is trial 0 with value: -2.0.\n",
      "[I 2020-09-20 19:06:27,232] Trial 10 finished with value: -2.0 and parameters: {'r_a': 1.7872810280867422}. Best is trial 0 with value: -2.0.\n",
      "[I 2020-09-20 19:06:29,310] Trial 11 finished with value: -2.0 and parameters: {'r_a': 0.33422332723180026}. Best is trial 0 with value: -2.0.\n",
      "[I 2020-09-20 19:06:31,545] Trial 12 finished with value: -2.0 and parameters: {'r_a': 2.099869627179646}. Best is trial 0 with value: -2.0.\n",
      "[I 2020-09-20 19:06:33,595] Trial 13 finished with value: -2.0 and parameters: {'r_a': 4.4236363497801126}. Best is trial 0 with value: -2.0.\n",
      "[I 2020-09-20 19:06:35,605] Trial 14 finished with value: -2.0 and parameters: {'r_a': 1.5564732069770582}. Best is trial 0 with value: -2.0.\n",
      "[I 2020-09-20 19:06:37,715] Trial 15 finished with value: -2.0 and parameters: {'r_a': 0.26807812831073147}. Best is trial 0 with value: -2.0.\n",
      "[I 2020-09-20 19:06:39,791] Trial 16 finished with value: -2.0 and parameters: {'r_a': 1.2882091873871329}. Best is trial 0 with value: -2.0.\n",
      "[I 2020-09-20 19:06:41,865] Trial 17 finished with value: -2.0 and parameters: {'r_a': 1.0032836088206463}. Best is trial 0 with value: -2.0.\n",
      "[I 2020-09-20 19:06:43,884] Trial 18 finished with value: -2.0 and parameters: {'r_a': 0.26833855488409175}. Best is trial 0 with value: -2.0.\n",
      "[I 2020-09-20 19:06:45,927] Trial 19 finished with value: -2.0 and parameters: {'r_a': 1.131596242863743}. Best is trial 0 with value: -2.0.\n",
      "[I 2020-09-20 19:06:47,895] Trial 20 finished with value: -2.0 and parameters: {'r_a': 0.7472674682186481}. Best is trial 0 with value: -2.0.\n",
      "[I 2020-09-20 19:06:49,895] Trial 21 finished with value: -2.0 and parameters: {'r_a': 0.4373401811365567}. Best is trial 0 with value: -2.0.\n",
      "[I 2020-09-20 19:06:51,949] Trial 22 finished with value: -2.0 and parameters: {'r_a': 0.2490366246549865}. Best is trial 0 with value: -2.0.\n",
      "[I 2020-09-20 19:06:54,226] Trial 23 finished with value: -2.0 and parameters: {'r_a': 0.866328439519516}. Best is trial 0 with value: -2.0.\n",
      "[I 2020-09-20 19:06:56,440] Trial 24 finished with value: -2.0 and parameters: {'r_a': 0.4896651109762712}. Best is trial 0 with value: -2.0.\n",
      "[I 2020-09-20 19:06:58,686] Trial 25 finished with value: -2.0 and parameters: {'r_a': 0.10106757735654301}. Best is trial 0 with value: -2.0.\n",
      "[I 2020-09-20 19:07:00,865] Trial 26 finished with value: -2.0 and parameters: {'r_a': 0.1904966263367919}. Best is trial 0 with value: -2.0.\n",
      "[I 2020-09-20 19:07:02,979] Trial 27 finished with value: -2.0 and parameters: {'r_a': 0.49964467574362276}. Best is trial 0 with value: -2.0.\n",
      "[I 2020-09-20 19:07:05,051] Trial 28 finished with value: -2.0 and parameters: {'r_a': 0.10055592514202369}. Best is trial 0 with value: -2.0.\n",
      "[I 2020-09-20 19:07:07,115] Trial 29 finished with value: -2.0 and parameters: {'r_a': 0.10590745404152521}. Best is trial 0 with value: -2.0.\n",
      "[I 2020-09-20 19:07:09,318] Trial 30 finished with value: -2.0 and parameters: {'r_a': 0.14945692314127196}. Best is trial 0 with value: -2.0.\n",
      "[I 2020-09-20 19:07:11,438] Trial 31 finished with value: -2.0 and parameters: {'r_a': 0.19703259155878952}. Best is trial 0 with value: -2.0.\n",
      "[I 2020-09-20 19:07:13,672] Trial 32 finished with value: -2.0 and parameters: {'r_a': 0.11766996990253506}. Best is trial 0 with value: -2.0.\n",
      "[I 2020-09-20 19:07:16,200] Trial 33 finished with value: -2.0 and parameters: {'r_a': 0.12039564650316917}. Best is trial 0 with value: -2.0.\n",
      "[I 2020-09-20 19:07:18,505] Trial 34 finished with value: -2.0 and parameters: {'r_a': 0.16996931456648115}. Best is trial 0 with value: -2.0.\n",
      "[I 2020-09-20 19:07:20,652] Trial 35 finished with value: -2.0 and parameters: {'r_a': 0.674277945262027}. Best is trial 0 with value: -2.0.\n",
      "[I 2020-09-20 19:07:22,926] Trial 36 finished with value: -2.0 and parameters: {'r_a': 0.36165090157734325}. Best is trial 0 with value: -2.0.\n",
      "[I 2020-09-20 19:07:25,109] Trial 37 finished with value: -2.0 and parameters: {'r_a': 0.6173851507796905}. Best is trial 0 with value: -2.0.\n",
      "[I 2020-09-20 19:07:27,426] Trial 38 finished with value: -2.0 and parameters: {'r_a': 0.8361580750939416}. Best is trial 0 with value: -2.0.\n",
      "[I 2020-09-20 19:07:29,564] Trial 39 finished with value: -2.0 and parameters: {'r_a': 0.3758392981195834}. Best is trial 0 with value: -2.0.\n",
      "[I 2020-09-20 19:07:31,766] Trial 40 finished with value: -2.0 and parameters: {'r_a': 0.29163966497858407}. Best is trial 0 with value: -2.0.\n",
      "[I 2020-09-20 19:07:33,848] Trial 41 finished with value: -2.0 and parameters: {'r_a': 0.5602632274788566}. Best is trial 0 with value: -2.0.\n",
      "[I 2020-09-20 19:07:35,908] Trial 42 finished with value: -2.0 and parameters: {'r_a': 0.9209137253537629}. Best is trial 0 with value: -2.0.\n",
      "[I 2020-09-20 19:07:38,486] Trial 43 finished with value: -2.0 and parameters: {'r_a': 0.22476212741238188}. Best is trial 0 with value: -2.0.\n",
      "[I 2020-09-20 19:07:40,751] Trial 44 finished with value: -2.0 and parameters: {'r_a': 0.4974096076953655}. Best is trial 0 with value: -2.0.\n",
      "[I 2020-09-20 19:07:42,868] Trial 45 finished with value: -2.0 and parameters: {'r_a': 0.4533515845592845}. Best is trial 0 with value: -2.0.\n",
      "[I 2020-09-20 19:07:45,004] Trial 46 finished with value: -2.0 and parameters: {'r_a': 0.10150156241798106}. Best is trial 0 with value: -2.0.\n",
      "[I 2020-09-20 19:07:47,343] Trial 47 finished with value: -2.0 and parameters: {'r_a': 0.1415916212552153}. Best is trial 0 with value: -2.0.\n",
      "[I 2020-09-20 19:07:49,771] Trial 48 finished with value: -2.0 and parameters: {'r_a': 0.18124106301958}. Best is trial 0 with value: -2.0.\n",
      "[I 2020-09-20 19:07:52,022] Trial 49 finished with value: -2.0 and parameters: {'r_a': 0.12528355293341797}. Best is trial 0 with value: -2.0.\n",
      "[I 2020-09-20 19:07:54,098] Trial 50 finished with value: -2.0 and parameters: {'r_a': 0.14982990560849596}. Best is trial 0 with value: -2.0.\n",
      "[I 2020-09-20 19:07:56,235] Trial 51 finished with value: -2.0 and parameters: {'r_a': 0.2154405992868447}. Best is trial 0 with value: -2.0.\n",
      "[I 2020-09-20 19:07:58,336] Trial 52 finished with value: -2.0 and parameters: {'r_a': 0.10216498218860688}. Best is trial 0 with value: -2.0.\n",
      "[I 2020-09-20 19:08:00,457] Trial 53 finished with value: -2.0 and parameters: {'r_a': 0.12030973441778711}. Best is trial 0 with value: -2.0.\n",
      "[I 2020-09-20 19:08:02,694] Trial 54 finished with value: -2.0 and parameters: {'r_a': 0.13113047873503195}. Best is trial 0 with value: -2.0.\n",
      "[I 2020-09-20 19:08:04,875] Trial 55 finished with value: -2.0 and parameters: {'r_a': 0.15440275746796875}. Best is trial 0 with value: -2.0.\n",
      "[I 2020-09-20 19:08:07,034] Trial 56 finished with value: -2.0 and parameters: {'r_a': 0.17682053890155278}. Best is trial 0 with value: -2.0.\n",
      "[I 2020-09-20 19:08:09,141] Trial 57 finished with value: -2.0 and parameters: {'r_a': 2.914466759512947}. Best is trial 0 with value: -2.0.\n",
      "[I 2020-09-20 19:08:11,182] Trial 58 finished with value: -2.0 and parameters: {'r_a': 0.31158130921182486}. Best is trial 0 with value: -2.0.\n",
      "[I 2020-09-20 19:08:13,213] Trial 59 finished with value: -2.0 and parameters: {'r_a': 0.6696481141806857}. Best is trial 0 with value: -2.0.\n",
      "[I 2020-09-20 19:08:15,289] Trial 60 finished with value: -2.0 and parameters: {'r_a': 0.3956227314384316}. Best is trial 0 with value: -2.0.\n",
      "[I 2020-09-20 19:08:17,658] Trial 61 finished with value: -2.0 and parameters: {'r_a': 0.7045945227026325}. Best is trial 0 with value: -2.0.\n",
      "[I 2020-09-20 19:08:19,862] Trial 62 finished with value: -2.0 and parameters: {'r_a': 1.310768293029966}. Best is trial 0 with value: -2.0.\n",
      "[I 2020-09-20 19:08:22,006] Trial 63 finished with value: -2.0 and parameters: {'r_a': 0.5993941084106181}. Best is trial 0 with value: -2.0.\n",
      "[I 2020-09-20 19:08:24,213] Trial 64 finished with value: -2.0 and parameters: {'r_a': 0.38275336401967414}. Best is trial 0 with value: -2.0.\n",
      "[I 2020-09-20 19:08:26,348] Trial 65 finished with value: -2.0 and parameters: {'r_a': 0.8205018950415167}. Best is trial 0 with value: -2.0.\n",
      "[I 2020-09-20 19:08:28,411] Trial 66 finished with value: -2.0 and parameters: {'r_a': 0.34052340192792113}. Best is trial 0 with value: -2.0.\n",
      "[I 2020-09-20 19:08:30,528] Trial 67 finished with value: -2.0 and parameters: {'r_a': 0.2957735516480213}. Best is trial 0 with value: -2.0.\n",
      "[I 2020-09-20 19:08:32,639] Trial 68 finished with value: -2.0 and parameters: {'r_a': 0.6031136513217776}. Best is trial 0 with value: -2.0.\n",
      "[I 2020-09-20 19:08:34,803] Trial 69 finished with value: -2.0 and parameters: {'r_a': 0.5758565274687593}. Best is trial 0 with value: -2.0.\n",
      "[I 2020-09-20 19:08:36,945] Trial 70 finished with value: -2.0 and parameters: {'r_a': 0.9231851779437598}. Best is trial 0 with value: -2.0.\n",
      "[I 2020-09-20 19:08:39,252] Trial 71 finished with value: -2.0 and parameters: {'r_a': 0.22429651943845233}. Best is trial 0 with value: -2.0.\n",
      "[I 2020-09-20 19:08:41,543] Trial 72 finished with value: -2.0 and parameters: {'r_a': 0.1420750404577371}. Best is trial 0 with value: -2.0.\n",
      "[I 2020-09-20 19:08:43,594] Trial 73 finished with value: -2.0 and parameters: {'r_a': 0.10724489765642913}. Best is trial 0 with value: -2.0.\n",
      "[I 2020-09-20 19:08:45,603] Trial 74 finished with value: -2.0 and parameters: {'r_a': 0.12348718566624658}. Best is trial 0 with value: -2.0.\n",
      "[I 2020-09-20 19:08:47,788] Trial 75 finished with value: -2.0 and parameters: {'r_a': 0.21853255254805504}. Best is trial 0 with value: -2.0.\n",
      "[I 2020-09-20 19:08:49,874] Trial 76 finished with value: -2.0 and parameters: {'r_a': 0.13284168845459893}. Best is trial 0 with value: -2.0.\n",
      "[I 2020-09-20 19:08:52,050] Trial 77 finished with value: -2.0 and parameters: {'r_a': 0.1692506168239493}. Best is trial 0 with value: -2.0.\n",
      "[I 2020-09-20 19:08:54,296] Trial 78 finished with value: -2.0 and parameters: {'r_a': 0.15744068010834916}. Best is trial 0 with value: -2.0.\n",
      "[I 2020-09-20 19:08:56,586] Trial 79 finished with value: -2.0 and parameters: {'r_a': 0.20140196812402772}. Best is trial 0 with value: -2.0.\n",
      "[I 2020-09-20 19:08:58,661] Trial 80 finished with value: -2.0 and parameters: {'r_a': 3.0631823405894223}. Best is trial 0 with value: -2.0.\n",
      "[I 2020-09-20 19:09:00,750] Trial 81 finished with value: -2.0 and parameters: {'r_a': 5.334016561015584}. Best is trial 0 with value: -2.0.\n",
      "[I 2020-09-20 19:09:02,853] Trial 82 finished with value: -2.0 and parameters: {'r_a': 1.7443078845892193}. Best is trial 0 with value: -2.0.\n",
      "[I 2020-09-20 19:09:04,995] Trial 83 finished with value: -2.0 and parameters: {'r_a': 1.0709246558159433}. Best is trial 0 with value: -2.0.\n",
      "[I 2020-09-20 19:09:07,108] Trial 84 finished with value: -2.0 and parameters: {'r_a': 0.42829633089550617}. Best is trial 0 with value: -2.0.\n",
      "[I 2020-09-20 19:09:09,333] Trial 85 finished with value: -2.0 and parameters: {'r_a': 0.3152574505328161}. Best is trial 0 with value: -2.0.\n",
      "[I 2020-09-20 19:09:11,482] Trial 86 finished with value: -2.0 and parameters: {'r_a': 9.936636121252922}. Best is trial 0 with value: -2.0.\n",
      "[I 2020-09-20 19:09:13,542] Trial 87 finished with value: -2.0 and parameters: {'r_a': 0.7157094520097852}. Best is trial 0 with value: -2.0.\n",
      "[I 2020-09-20 19:09:15,560] Trial 88 finished with value: -2.0 and parameters: {'r_a': 2.348782016990227}. Best is trial 0 with value: -2.0.\n",
      "[I 2020-09-20 19:09:17,656] Trial 89 finished with value: -2.0 and parameters: {'r_a': 1.2805965337671155}. Best is trial 0 with value: -2.0.\n",
      "[I 2020-09-20 19:09:20,076] Trial 90 finished with value: -2.0 and parameters: {'r_a': 0.3898514126071472}. Best is trial 0 with value: -2.0.\n",
      "[I 2020-09-20 19:09:22,523] Trial 91 finished with value: -2.0 and parameters: {'r_a': 0.7975722378906127}. Best is trial 0 with value: -2.0.\n",
      "[I 2020-09-20 19:09:24,730] Trial 92 finished with value: -2.0 and parameters: {'r_a': 0.6731464212705227}. Best is trial 0 with value: -2.0.\n",
      "[I 2020-09-20 19:09:26,935] Trial 93 finished with value: -2.0 and parameters: {'r_a': 0.42154177166976753}. Best is trial 0 with value: -2.0.\n",
      "[I 2020-09-20 19:09:29,200] Trial 94 finished with value: -2.0 and parameters: {'r_a': 0.5292381385821595}. Best is trial 0 with value: -2.0.\n",
      "[I 2020-09-20 19:09:31,523] Trial 95 finished with value: -2.0 and parameters: {'r_a': 1.228993941116717}. Best is trial 0 with value: -2.0.\n",
      "[I 2020-09-20 19:09:33,802] Trial 96 finished with value: -2.0 and parameters: {'r_a': 0.34827426732669053}. Best is trial 0 with value: -2.0.\n",
      "[I 2020-09-20 19:09:36,054] Trial 97 finished with value: -2.0 and parameters: {'r_a': 0.6041024083324342}. Best is trial 0 with value: -2.0.\n",
      "[I 2020-09-20 19:09:38,310] Trial 98 finished with value: -2.0 and parameters: {'r_a': 0.9438393518807194}. Best is trial 0 with value: -2.0.\n",
      "[I 2020-09-20 19:09:40,391] Trial 99 finished with value: -2.0 and parameters: {'r_a': 0.2762978146302358}. Best is trial 0 with value: -2.0.\n"
     ]
    }
   ],
   "source": [
    "study = optuna.create_study(direction='maximize')\n",
    "study.optimize(objective, n_trials=100)"
   ]
  }
 ],
 "metadata": {
  "kernelspec": {
   "display_name": "Python 3",
   "language": "python",
   "name": "python3"
  },
  "language_info": {
   "codemirror_mode": {
    "name": "ipython",
    "version": 3
   },
   "file_extension": ".py",
   "mimetype": "text/x-python",
   "name": "python",
   "nbconvert_exporter": "python",
   "pygments_lexer": "ipython3",
   "version": "3.8.2"
  }
 },
 "nbformat": 4,
 "nbformat_minor": 4
}
