{
  "nbformat": 4,
  "nbformat_minor": 0,
  "metadata": {
    "kernelspec": {
      "display_name": "Python 3",
      "language": "python",
      "name": "python3"
    },
    "language_info": {
      "codemirror_mode": {
        "name": "ipython",
        "version": 3
      },
      "file_extension": ".py",
      "mimetype": "text/x-python",
      "name": "python",
      "nbconvert_exporter": "python",
      "pygments_lexer": "ipython3",
      "version": "3.8.2"
    },
    "colab": {
      "name": "substractive-demo.ipynb",
      "provenance": [],
      "include_colab_link": true
    },
    "accelerator": "GPU"
  },
  "cells": [
    {
      "cell_type": "markdown",
      "metadata": {
        "id": "view-in-github",
        "colab_type": "text"
      },
      "source": [
        "<a href=\"https://colab.research.google.com/github/shpotes/clustering/blob/master/notebooks/dev/substractive-demo.ipynb\" target=\"_parent\"><img src=\"https://colab.research.google.com/assets/colab-badge.svg\" alt=\"Open In Colab\"/></a>"
      ]
    },
    {
      "cell_type": "code",
      "metadata": {
        "id": "WN6EJBPVkjRn",
        "colab_type": "code",
        "colab": {
          "base_uri": "https://localhost:8080/",
          "height": 34
        },
        "outputId": "7c310876-9580-4f0b-e16f-0f93175cd99e"
      },
      "source": [
        "!git clone https://github.com/shpotes/clustering -q\n",
        "%cd clustering"
      ],
      "execution_count": 1,
      "outputs": [
        {
          "output_type": "stream",
          "text": [
            "/content/clustering\n"
          ],
          "name": "stdout"
        }
      ]
    },
    {
      "cell_type": "code",
      "metadata": {
        "id": "I_zH21KpkjRs",
        "colab_type": "code",
        "colab": {}
      },
      "source": [
        "from src import Substractive\n",
        "import numpy as onp"
      ],
      "execution_count": 2,
      "outputs": []
    },
    {
      "cell_type": "code",
      "metadata": {
        "id": "S7RMScB7kjRv",
        "colab_type": "code",
        "colab": {}
      },
      "source": [
        "X1 = onp.random.normal([1, 10], 0.05, size=(2, 2))\n",
        "y1 = onp.zeros(2)\n",
        "X2 = onp.random.normal([3, 5], 0.01, size=(3, 2))\n",
        "y2 = onp.ones(3)\n",
        "\n",
        "x = onp.vstack([X1, X2])\n",
        "y = onp.concatenate([y1, y2])\n",
        "\n",
        "idxs = onp.arange(5)\n",
        "onp.random.shuffle(idxs)\n",
        "x = x[idxs]\n",
        "y = y[idxs]"
      ],
      "execution_count": 3,
      "outputs": []
    },
    {
      "cell_type": "code",
      "metadata": {
        "id": "LgQumlb0kjRy",
        "colab_type": "code",
        "colab": {}
      },
      "source": [
        "sub = Substractive()"
      ],
      "execution_count": 4,
      "outputs": []
    },
    {
      "cell_type": "code",
      "metadata": {
        "id": "cNXpnyqVkjR1",
        "colab_type": "code",
        "colab": {
          "base_uri": "https://localhost:8080/",
          "height": 68
        },
        "outputId": "b4249a7f-ff82-4ce2-9768-79c86aa9cf1f"
      },
      "source": [
        "sub.fit(x)\n",
        "print(sub.n_clusters) # 2\n",
        "print(sub.clusters) # ~ [[3, 5], [1, 10]]"
      ],
      "execution_count": 5,
      "outputs": [
        {
          "output_type": "stream",
          "text": [
            "2\n",
            "[[2.992 4.996]\n",
            " [1.048 9.99 ]]\n"
          ],
          "name": "stdout"
        }
      ]
    },
    {
      "cell_type": "code",
      "metadata": {
        "id": "zC0XBMqQkjR4",
        "colab_type": "code",
        "colab": {
          "base_uri": "https://localhost:8080/",
          "height": 71
        },
        "outputId": "d8ce1440-519f-476f-8ca9-eaf531a24373"
      },
      "source": [
        "%%timeit\n",
        "x = onp.random.random((9999, 1000))\n",
        "sub.fit(x)"
      ],
      "execution_count": 6,
      "outputs": [
        {
          "output_type": "stream",
          "text": [
            "The slowest run took 12.92 times longer than the fastest. This could mean that an intermediate result is being cached.\n",
            "1 loop, best of 3: 145 ms per loop\n"
          ],
          "name": "stdout"
        }
      ]
    },
    {
      "cell_type": "code",
      "metadata": {
        "id": "ZAqcKxROkjR7",
        "colab_type": "code",
        "colab": {}
      },
      "source": [
        ""
      ],
      "execution_count": null,
      "outputs": []
    }
  ]
}