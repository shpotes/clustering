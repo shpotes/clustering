{
 "cells": [
  {
   "cell_type": "code",
   "execution_count": 1,
   "metadata": {},
   "outputs": [],
   "source": [
    "import numpy as np\n",
    "from sklearn import datasets, metrics\n",
    "import matplotlib.pyplot as plt"
   ]
  },
  {
   "cell_type": "code",
   "execution_count": 2,
   "metadata": {},
   "outputs": [],
   "source": [
    "X1 = np.random.normal([1, 10], 0.05, size=(2, 2))\n",
    "y1 = np.zeros(2)\n",
    "X2 = np.random.normal([3, 5], 0.01, size=(3, 2))\n",
    "y2 = np.ones(3)\n",
    "\n",
    "X = np.vstack([X1, X2])\n",
    "y = np.concatenate([y1, y2])\n",
    "\n",
    "index = np.arange(5)\n",
    "np.random.shuffle(index)\n",
    "X = X[index]\n",
    "y = y[index]"
   ]
  },
  {
   "cell_type": "code",
   "execution_count": 3,
   "metadata": {},
   "outputs": [
    {
     "data": {
      "text/plain": [
       "<matplotlib.collections.PathCollection at 0x7fd5788de490>"
      ]
     },
     "execution_count": 3,
     "metadata": {},
     "output_type": "execute_result"
    },
    {
     "data": {
      "image/png": "[encoded data removed]",
      "text/plain": [
       "<Figure size 432x288 with 1 Axes>"
      ]
     },
     "metadata": {
      "needs_background": "light"
     },
     "output_type": "display_data"
    }
   ],
   "source": [
    "plt.scatter(*X.T, c=y)"
   ]
  },
  {
   "cell_type": "code",
   "execution_count": 4,
   "metadata": {},
   "outputs": [
    {
     "data": {
      "text/plain": [
       "(5, 2)"
      ]
     },
     "execution_count": 4,
     "metadata": {},
     "output_type": "execute_result"
    }
   ],
   "source": [
    "X.shape"
   ]
  },
  {
   "cell_type": "markdown",
   "metadata": {},
   "source": [
    "# Mountain"
   ]
  },
  {
   "cell_type": "markdown",
   "metadata": {},
   "source": [
    "## First step\n",
    "* forming a grid the data space\n",
    "* where the intersections of the grid lines constitute the candidates for cluster centers, denoted as a set $V$"
   ]
  },
  {
   "cell_type": "code",
   "execution_count": 5,
   "metadata": {},
   "outputs": [],
   "source": [
    "x_min, y_min = X.min(axis=0)\n",
    "x_max, y_max = X.max(axis=0)\n",
    "\n",
    "xx = np.linspace(x_min, x_max, 10)\n",
    "yy = np.linspace(y_min, y_max, 10)\n",
    "\n",
    "V = np.stack(np.meshgrid(xx, yy))"
   ]
  },
  {
   "cell_type": "code",
   "execution_count": 6,
   "metadata": {},
   "outputs": [
    {
     "data": {
      "text/plain": [
       "((5, 2), (2, 10, 10))"
      ]
     },
     "execution_count": 6,
     "metadata": {},
     "output_type": "execute_result"
    }
   ],
   "source": [
    "X.shape, V.shape"
   ]
  },
  {
   "cell_type": "code",
   "execution_count": 7,
   "metadata": {},
   "outputs": [
    {
     "data": {
      "text/plain": [
       "50.58766547843018"
      ]
     },
     "execution_count": 7,
     "metadata": {},
     "output_type": "execute_result"
    }
   ],
   "source": [
    "(X[0] * V[:, 0, 0]).sum()"
   ]
  },
  {
   "cell_type": "code",
   "execution_count": 8,
   "metadata": {},
   "outputs": [
    {
     "data": {
      "text/plain": [
       "(2, 10, 10)"
      ]
     },
     "execution_count": 8,
     "metadata": {},
     "output_type": "execute_result"
    }
   ],
   "source": [
    "X.shape\n",
    "V.shape"
   ]
  },
  {
   "cell_type": "code",
   "execution_count": 9,
   "metadata": {},
   "outputs": [],
   "source": [
    "V = np.stack(V)[np.newaxis, ...]\n",
    "X = np.expand_dims(X, axis=list(range(2, len(V.shape))))"
   ]
  },
  {
   "cell_type": "code",
   "execution_count": 10,
   "metadata": {},
   "outputs": [
    {
     "data": {
      "text/plain": [
       "(5, 2, 1, 1)"
      ]
     },
     "execution_count": 10,
     "metadata": {},
     "output_type": "execute_result"
    }
   ],
   "source": [
    "X.shape"
   ]
  },
  {
   "cell_type": "code",
   "execution_count": 15,
   "metadata": {},
   "outputs": [
    {
     "data": {
      "text/plain": [
       "((5, 2, 1, 1), (1, 2, 10, 10))"
      ]
     },
     "execution_count": 15,
     "metadata": {},
     "output_type": "execute_result"
    }
   ],
   "source": [
    "X.shape, V.shape"
   ]
  },
  {
   "cell_type": "code",
   "execution_count": 12,
   "metadata": {},
   "outputs": [],
   "source": [
    "points_norm = np.linalg.norm(X, ord=2, axis=1)\n",
    "grid_norm = np.linalg.norm(V, ord=2, axis=1)"
   ]
  },
  {
   "cell_type": "code",
   "execution_count": 19,
   "metadata": {},
   "outputs": [],
   "source": [
    "gt = metrics.pairwise.cosine_similarity(X.squeeze(), V.squeeze().reshape(2, 100).T)"
   ]
  },
  {
   "cell_type": "code",
   "execution_count": 17,
   "metadata": {},
   "outputs": [],
   "source": [
    "value = (X * V).sum(axis=1) / (points_norm * grid_norm)"
   ]
  },
  {
   "cell_type": "code",
   "execution_count": 22,
   "metadata": {},
   "outputs": [
    {
     "data": {
      "text/plain": [
       "array([[ 0.00000000e+00,  0.00000000e+00,  0.00000000e+00,\n",
       "         0.00000000e+00, -1.11022302e-16, -1.11022302e-16,\n",
       "         0.00000000e+00,  1.11022302e-16,  0.00000000e+00,\n",
       "        -1.11022302e-16,  0.00000000e+00,  0.00000000e+00,\n",
       "         0.00000000e+00,  0.00000000e+00,  0.00000000e+00,\n",
       "         1.11022302e-16,  0.00000000e+00,  0.00000000e+00,\n",
       "         1.11022302e-16,  1.11022302e-16,  0.00000000e+00,\n",
       "         0.00000000e+00,  0.00000000e+00,  0.00000000e+00,\n",
       "        -1.11022302e-16,  1.11022302e-16,  0.00000000e+00,\n",
       "        -1.11022302e-16,  0.00000000e+00,  0.00000000e+00,\n",
       "         0.00000000e+00,  1.11022302e-16, -1.11022302e-16,\n",
       "         0.00000000e+00,  0.00000000e+00, -1.11022302e-16,\n",
       "         0.00000000e+00, -1.11022302e-16,  0.00000000e+00,\n",
       "         0.00000000e+00,  1.11022302e-16,  1.11022302e-16,\n",
       "         1.11022302e-16,  0.00000000e+00,  1.11022302e-16,\n",
       "         1.11022302e-16,  1.11022302e-16,  1.11022302e-16,\n",
       "         2.22044605e-16,  1.11022302e-16,  0.00000000e+00,\n",
       "         0.00000000e+00,  0.00000000e+00,  0.00000000e+00,\n",
       "        -1.11022302e-16,  0.00000000e+00, -1.11022302e-16,\n",
       "         0.00000000e+00, -1.11022302e-16,  0.00000000e+00,\n",
       "         1.11022302e-16, -1.11022302e-16,  0.00000000e+00,\n",
       "         1.11022302e-16,  1.11022302e-16,  0.00000000e+00,\n",
       "         1.11022302e-16,  0.00000000e+00, -1.11022302e-16,\n",
       "         1.11022302e-16,  0.00000000e+00,  0.00000000e+00,\n",
       "        -1.11022302e-16,  0.00000000e+00, -1.11022302e-16,\n",
       "         0.00000000e+00, -1.11022302e-16, -2.22044605e-16,\n",
       "        -1.11022302e-16, -1.11022302e-16,  0.00000000e+00,\n",
       "         0.00000000e+00,  1.11022302e-16,  0.00000000e+00,\n",
       "         0.00000000e+00,  0.00000000e+00,  0.00000000e+00,\n",
       "         0.00000000e+00,  0.00000000e+00,  0.00000000e+00,\n",
       "         0.00000000e+00,  1.11022302e-16,  0.00000000e+00,\n",
       "        -1.11022302e-16,  0.00000000e+00,  0.00000000e+00,\n",
       "        -1.11022302e-16,  0.00000000e+00,  0.00000000e+00,\n",
       "        -1.11022302e-16],\n",
       "       [ 1.11022302e-16,  2.22044605e-16,  1.11022302e-16,\n",
       "         2.22044605e-16,  0.00000000e+00,  1.11022302e-16,\n",
       "         0.00000000e+00,  1.11022302e-16,  0.00000000e+00,\n",
       "         1.11022302e-16,  0.00000000e+00,  1.11022302e-16,\n",
       "         1.11022302e-16,  1.11022302e-16,  1.11022302e-16,\n",
       "         2.22044605e-16,  1.11022302e-16,  0.00000000e+00,\n",
       "         1.11022302e-16,  2.22044605e-16,  1.11022302e-16,\n",
       "         1.11022302e-16,  1.11022302e-16,  1.11022302e-16,\n",
       "         0.00000000e+00,  2.22044605e-16,  1.11022302e-16,\n",
       "         0.00000000e+00,  0.00000000e+00,  1.11022302e-16,\n",
       "         0.00000000e+00,  2.22044605e-16, -1.11022302e-16,\n",
       "         1.11022302e-16,  0.00000000e+00,  0.00000000e+00,\n",
       "         1.11022302e-16,  2.22044605e-16,  1.11022302e-16,\n",
       "         2.22044605e-16,  0.00000000e+00,  0.00000000e+00,\n",
       "         0.00000000e+00, -2.22044605e-16,  1.11022302e-16,\n",
       "         0.00000000e+00, -1.11022302e-16,  0.00000000e+00,\n",
       "         0.00000000e+00,  0.00000000e+00,  2.22044605e-16,\n",
       "         1.11022302e-16,  1.11022302e-16,  1.11022302e-16,\n",
       "         0.00000000e+00,  0.00000000e+00,  0.00000000e+00,\n",
       "         1.11022302e-16,  1.11022302e-16,  2.22044605e-16,\n",
       "         1.11022302e-16,  1.11022302e-16,  1.11022302e-16,\n",
       "         0.00000000e+00,  1.11022302e-16,  1.11022302e-16,\n",
       "         0.00000000e+00,  1.11022302e-16,  0.00000000e+00,\n",
       "         1.11022302e-16,  0.00000000e+00,  1.11022302e-16,\n",
       "        -1.11022302e-16,  0.00000000e+00,  0.00000000e+00,\n",
       "        -1.11022302e-16, -1.11022302e-16,  0.00000000e+00,\n",
       "         1.11022302e-16,  0.00000000e+00,  1.11022302e-16,\n",
       "         1.11022302e-16,  0.00000000e+00,  1.11022302e-16,\n",
       "         0.00000000e+00,  0.00000000e+00,  0.00000000e+00,\n",
       "         2.22044605e-16,  1.11022302e-16,  1.11022302e-16,\n",
       "         1.11022302e-16,  1.11022302e-16,  1.11022302e-16,\n",
       "         1.11022302e-16,  1.11022302e-16,  0.00000000e+00,\n",
       "         1.11022302e-16,  2.22044605e-16,  2.22044605e-16,\n",
       "         1.11022302e-16],\n",
       "       [ 1.11022302e-16,  0.00000000e+00, -1.11022302e-16,\n",
       "         1.11022302e-16,  0.00000000e+00, -1.11022302e-16,\n",
       "        -2.22044605e-16,  1.11022302e-16,  1.11022302e-16,\n",
       "         0.00000000e+00,  1.11022302e-16,  1.11022302e-16,\n",
       "        -1.11022302e-16,  0.00000000e+00, -1.11022302e-16,\n",
       "         1.11022302e-16,  0.00000000e+00,  0.00000000e+00,\n",
       "         0.00000000e+00, -1.11022302e-16,  0.00000000e+00,\n",
       "         0.00000000e+00,  0.00000000e+00,  1.11022302e-16,\n",
       "         0.00000000e+00,  0.00000000e+00, -2.22044605e-16,\n",
       "         1.11022302e-16,  1.11022302e-16,  0.00000000e+00,\n",
       "        -1.11022302e-16,  0.00000000e+00,  1.11022302e-16,\n",
       "         1.11022302e-16,  1.11022302e-16, -1.11022302e-16,\n",
       "         0.00000000e+00,  0.00000000e+00,  2.22044605e-16,\n",
       "         1.11022302e-16, -1.11022302e-16, -1.11022302e-16,\n",
       "         2.22044605e-16,  1.11022302e-16,  1.11022302e-16,\n",
       "        -1.11022302e-16, -1.11022302e-16,  0.00000000e+00,\n",
       "         1.11022302e-16,  0.00000000e+00,  0.00000000e+00,\n",
       "        -2.22044605e-16,  0.00000000e+00,  0.00000000e+00,\n",
       "         0.00000000e+00, -1.11022302e-16,  0.00000000e+00,\n",
       "        -1.11022302e-16, -1.11022302e-16,  0.00000000e+00,\n",
       "        -1.11022302e-16, -1.11022302e-16,  0.00000000e+00,\n",
       "         0.00000000e+00,  1.11022302e-16, -1.11022302e-16,\n",
       "         0.00000000e+00,  0.00000000e+00,  0.00000000e+00,\n",
       "         0.00000000e+00, -1.11022302e-16, -1.11022302e-16,\n",
       "        -1.11022302e-16, -1.11022302e-16,  0.00000000e+00,\n",
       "        -1.11022302e-16, -1.11022302e-16,  0.00000000e+00,\n",
       "         0.00000000e+00,  0.00000000e+00, -1.11022302e-16,\n",
       "         0.00000000e+00,  1.11022302e-16,  1.11022302e-16,\n",
       "         0.00000000e+00,  0.00000000e+00, -1.11022302e-16,\n",
       "         1.11022302e-16,  0.00000000e+00,  1.11022302e-16,\n",
       "         0.00000000e+00, -1.11022302e-16,  0.00000000e+00,\n",
       "         0.00000000e+00, -1.11022302e-16, -1.11022302e-16,\n",
       "         0.00000000e+00,  0.00000000e+00,  0.00000000e+00,\n",
       "         0.00000000e+00],\n",
       "       [ 0.00000000e+00, -1.11022302e-16,  0.00000000e+00,\n",
       "        -1.11022302e-16,  0.00000000e+00,  0.00000000e+00,\n",
       "         0.00000000e+00,  1.11022302e-16, -1.11022302e-16,\n",
       "        -3.33066907e-16,  0.00000000e+00,  0.00000000e+00,\n",
       "        -1.11022302e-16,  0.00000000e+00,  1.11022302e-16,\n",
       "        -1.11022302e-16,  0.00000000e+00, -1.11022302e-16,\n",
       "         1.11022302e-16, -1.11022302e-16,  0.00000000e+00,\n",
       "         0.00000000e+00,  0.00000000e+00, -2.22044605e-16,\n",
       "        -1.11022302e-16, -2.22044605e-16, -1.11022302e-16,\n",
       "        -2.22044605e-16,  0.00000000e+00, -1.11022302e-16,\n",
       "        -1.11022302e-16,  0.00000000e+00, -1.11022302e-16,\n",
       "         1.11022302e-16, -1.11022302e-16, -1.11022302e-16,\n",
       "        -1.11022302e-16, -1.11022302e-16, -1.11022302e-16,\n",
       "        -1.11022302e-16, -1.11022302e-16, -1.11022302e-16,\n",
       "        -1.11022302e-16,  0.00000000e+00,  0.00000000e+00,\n",
       "        -1.11022302e-16, -1.11022302e-16, -1.11022302e-16,\n",
       "        -1.11022302e-16, -1.11022302e-16,  1.11022302e-16,\n",
       "         1.11022302e-16, -1.11022302e-16,  2.22044605e-16,\n",
       "         0.00000000e+00, -1.11022302e-16, -1.11022302e-16,\n",
       "         0.00000000e+00,  0.00000000e+00,  0.00000000e+00,\n",
       "         1.11022302e-16,  0.00000000e+00,  0.00000000e+00,\n",
       "         0.00000000e+00,  0.00000000e+00, -1.11022302e-16,\n",
       "         0.00000000e+00, -2.22044605e-16, -1.11022302e-16,\n",
       "         0.00000000e+00,  1.11022302e-16,  0.00000000e+00,\n",
       "         1.11022302e-16,  0.00000000e+00,  0.00000000e+00,\n",
       "        -1.11022302e-16,  0.00000000e+00,  0.00000000e+00,\n",
       "         0.00000000e+00,  0.00000000e+00,  1.11022302e-16,\n",
       "         1.11022302e-16,  1.11022302e-16,  0.00000000e+00,\n",
       "         0.00000000e+00, -1.11022302e-16,  0.00000000e+00,\n",
       "         0.00000000e+00,  1.11022302e-16,  0.00000000e+00,\n",
       "         0.00000000e+00,  0.00000000e+00, -1.11022302e-16,\n",
       "        -1.11022302e-16, -1.11022302e-16,  0.00000000e+00,\n",
       "         0.00000000e+00, -1.11022302e-16,  0.00000000e+00,\n",
       "         0.00000000e+00],\n",
       "       [ 0.00000000e+00,  0.00000000e+00,  0.00000000e+00,\n",
       "        -1.11022302e-16, -1.11022302e-16, -1.11022302e-16,\n",
       "         0.00000000e+00, -1.11022302e-16, -1.11022302e-16,\n",
       "        -2.22044605e-16,  0.00000000e+00, -1.11022302e-16,\n",
       "         0.00000000e+00,  0.00000000e+00,  1.11022302e-16,\n",
       "         0.00000000e+00,  1.11022302e-16,  1.11022302e-16,\n",
       "         1.11022302e-16, -1.11022302e-16, -1.11022302e-16,\n",
       "        -1.11022302e-16, -1.11022302e-16, -1.11022302e-16,\n",
       "         0.00000000e+00,  0.00000000e+00, -1.11022302e-16,\n",
       "        -1.11022302e-16,  1.11022302e-16, -2.22044605e-16,\n",
       "         0.00000000e+00, -1.11022302e-16,  0.00000000e+00,\n",
       "         0.00000000e+00,  0.00000000e+00, -1.11022302e-16,\n",
       "         0.00000000e+00,  0.00000000e+00,  1.11022302e-16,\n",
       "        -1.11022302e-16,  0.00000000e+00,  0.00000000e+00,\n",
       "         0.00000000e+00, -1.11022302e-16,  0.00000000e+00,\n",
       "        -1.11022302e-16,  0.00000000e+00, -1.11022302e-16,\n",
       "         1.11022302e-16, -1.11022302e-16,  1.11022302e-16,\n",
       "        -2.22044605e-16,  0.00000000e+00, -1.11022302e-16,\n",
       "         0.00000000e+00, -1.11022302e-16,  0.00000000e+00,\n",
       "         1.11022302e-16,  1.11022302e-16,  0.00000000e+00,\n",
       "         0.00000000e+00, -1.11022302e-16, -1.11022302e-16,\n",
       "         0.00000000e+00,  1.11022302e-16, -1.11022302e-16,\n",
       "         0.00000000e+00,  0.00000000e+00,  1.11022302e-16,\n",
       "         0.00000000e+00,  1.11022302e-16, -1.11022302e-16,\n",
       "         0.00000000e+00,  1.11022302e-16,  1.11022302e-16,\n",
       "        -1.11022302e-16,  0.00000000e+00,  0.00000000e+00,\n",
       "         1.11022302e-16,  0.00000000e+00,  0.00000000e+00,\n",
       "         0.00000000e+00,  0.00000000e+00,  0.00000000e+00,\n",
       "         0.00000000e+00, -1.11022302e-16,  0.00000000e+00,\n",
       "         0.00000000e+00,  1.11022302e-16, -1.11022302e-16,\n",
       "         0.00000000e+00, -1.11022302e-16,  0.00000000e+00,\n",
       "        -1.11022302e-16,  0.00000000e+00, -2.22044605e-16,\n",
       "        -1.11022302e-16,  0.00000000e+00,  1.11022302e-16,\n",
       "        -2.22044605e-16]])"
      ]
     },
     "execution_count": 22,
     "metadata": {},
     "output_type": "execute_result"
    }
   ],
   "source": [
    "gt - value.reshape(5, -1)"
   ]
  },
  {
   "cell_type": "code",
   "execution_count": 10,
   "metadata": {},
   "outputs": [
    {
     "data": {
      "text/plain": [
       "array([[[[ 0.98240685,  1.20748015,  1.43255346,  1.65762676,\n",
       "           1.88270006,  2.10777336,  2.33284667,  2.55791997,\n",
       "           2.78299327,  3.00806657],\n",
       "         [ 0.98240685,  1.20748015,  1.43255346,  1.65762676,\n",
       "           1.88270006,  2.10777336,  2.33284667,  2.55791997,\n",
       "           2.78299327,  3.00806657],\n",
       "         [ 0.98240685,  1.20748015,  1.43255346,  1.65762676,\n",
       "           1.88270006,  2.10777336,  2.33284667,  2.55791997,\n",
       "           2.78299327,  3.00806657],\n",
       "         [ 0.98240685,  1.20748015,  1.43255346,  1.65762676,\n",
       "           1.88270006,  2.10777336,  2.33284667,  2.55791997,\n",
       "           2.78299327,  3.00806657],\n",
       "         [ 0.98240685,  1.20748015,  1.43255346,  1.65762676,\n",
       "           1.88270006,  2.10777336,  2.33284667,  2.55791997,\n",
       "           2.78299327,  3.00806657],\n",
       "         [ 0.98240685,  1.20748015,  1.43255346,  1.65762676,\n",
       "           1.88270006,  2.10777336,  2.33284667,  2.55791997,\n",
       "           2.78299327,  3.00806657],\n",
       "         [ 0.98240685,  1.20748015,  1.43255346,  1.65762676,\n",
       "           1.88270006,  2.10777336,  2.33284667,  2.55791997,\n",
       "           2.78299327,  3.00806657],\n",
       "         [ 0.98240685,  1.20748015,  1.43255346,  1.65762676,\n",
       "           1.88270006,  2.10777336,  2.33284667,  2.55791997,\n",
       "           2.78299327,  3.00806657],\n",
       "         [ 0.98240685,  1.20748015,  1.43255346,  1.65762676,\n",
       "           1.88270006,  2.10777336,  2.33284667,  2.55791997,\n",
       "           2.78299327,  3.00806657],\n",
       "         [ 0.98240685,  1.20748015,  1.43255346,  1.65762676,\n",
       "           1.88270006,  2.10777336,  2.33284667,  2.55791997,\n",
       "           2.78299327,  3.00806657]],\n",
       "\n",
       "        [[ 4.97963362,  4.97963362,  4.97963362,  4.97963362,\n",
       "           4.97963362,  4.97963362,  4.97963362,  4.97963362,\n",
       "           4.97963362,  4.97963362],\n",
       "         [ 5.53813396,  5.53813396,  5.53813396,  5.53813396,\n",
       "           5.53813396,  5.53813396,  5.53813396,  5.53813396,\n",
       "           5.53813396,  5.53813396],\n",
       "         [ 6.09663429,  6.09663429,  6.09663429,  6.09663429,\n",
       "           6.09663429,  6.09663429,  6.09663429,  6.09663429,\n",
       "           6.09663429,  6.09663429],\n",
       "         [ 6.65513463,  6.65513463,  6.65513463,  6.65513463,\n",
       "           6.65513463,  6.65513463,  6.65513463,  6.65513463,\n",
       "           6.65513463,  6.65513463],\n",
       "         [ 7.21363497,  7.21363497,  7.21363497,  7.21363497,\n",
       "           7.21363497,  7.21363497,  7.21363497,  7.21363497,\n",
       "           7.21363497,  7.21363497],\n",
       "         [ 7.7721353 ,  7.7721353 ,  7.7721353 ,  7.7721353 ,\n",
       "           7.7721353 ,  7.7721353 ,  7.7721353 ,  7.7721353 ,\n",
       "           7.7721353 ,  7.7721353 ],\n",
       "         [ 8.33063564,  8.33063564,  8.33063564,  8.33063564,\n",
       "           8.33063564,  8.33063564,  8.33063564,  8.33063564,\n",
       "           8.33063564,  8.33063564],\n",
       "         [ 8.88913597,  8.88913597,  8.88913597,  8.88913597,\n",
       "           8.88913597,  8.88913597,  8.88913597,  8.88913597,\n",
       "           8.88913597,  8.88913597],\n",
       "         [ 9.44763631,  9.44763631,  9.44763631,  9.44763631,\n",
       "           9.44763631,  9.44763631,  9.44763631,  9.44763631,\n",
       "           9.44763631,  9.44763631],\n",
       "         [10.00613664, 10.00613664, 10.00613664, 10.00613664,\n",
       "          10.00613664, 10.00613664, 10.00613664, 10.00613664,\n",
       "          10.00613664, 10.00613664]]]])"
      ]
     },
     "execution_count": 10,
     "metadata": {},
     "output_type": "execute_result"
    }
   ],
   "source": [
    "V # : Array[1, n_dims, x_dims, y_dims]"
   ]
  },
  {
   "cell_type": "markdown",
   "metadata": {},
   "source": [
    "## Second step\n",
    "* constructing a mountain function representing a data density measure"
   ]
  },
  {
   "cell_type": "code",
   "execution_count": 11,
   "metadata": {},
   "outputs": [],
   "source": [
    "def mountain_function(v, x, norm, sigma):\n",
    "    \"\"\"\n",
    "    Inputs:\n",
    "        v : Array[1, n_dims, x_dims, y_dims]\n",
    "        Mountain points\n",
    "        x : Array[n_samples, n_dims, x_dims, y_dims]\n",
    "        Data points\n",
    "        norm: Funct\n",
    "        \n",
    "        sigma: float\n",
    "    \n",
    "    \"\"\"\n",
    "    return np.exp(-norm((V - X), axis=1) / (2 * sigma ** 2)).sum(axis=0)"
   ]
  },
  {
   "cell_type": "code",
   "execution_count": 12,
   "metadata": {},
   "outputs": [
    {
     "data": {
      "text/plain": [
       "(10, 10)"
      ]
     },
     "execution_count": 12,
     "metadata": {},
     "output_type": "execute_result"
    }
   ],
   "source": [
    "mountain_function(\n",
    "    V, X, \n",
    "    lambda x, **kwargs: np.linalg.norm(x, ord=2, **kwargs),\n",
    "    0.1\n",
    ").shape"
   ]
  },
  {
   "cell_type": "code",
   "execution_count": 13,
   "metadata": {},
   "outputs": [],
   "source": [
    "m = lambda v: mountain_function(\n",
    "    v,\n",
    "    X,\n",
    "    lambda y, **kwargs: np.linalg.norm(y, ord=2, **kwargs),\n",
    "    0.1\n",
    ")"
   ]
  },
  {
   "cell_type": "code",
   "execution_count": 14,
   "metadata": {},
   "outputs": [
    {
     "data": {
      "text/plain": [
       "<matplotlib.image.AxesImage at 0x7f03d6b7e820>"
      ]
     },
     "execution_count": 14,
     "metadata": {},
     "output_type": "execute_result"
    },
    {
     "data": {
      "image/png": "[encoded data removed]",
      "text/plain": [
       "<Figure size 432x288 with 1 Axes>"
      ]
     },
     "metadata": {
      "needs_background": "light"
     },
     "output_type": "display_data"
    }
   ],
   "source": [
    "m_V = m(V)\n",
    "plt.imshow(m_V[::-1])"
   ]
  },
  {
   "cell_type": "code",
   "execution_count": 15,
   "metadata": {},
   "outputs": [
    {
     "data": {
      "text/plain": [
       "(0, 9)"
      ]
     },
     "execution_count": 15,
     "metadata": {},
     "output_type": "execute_result"
    }
   ],
   "source": [
    "np.unravel_index(np.argmax(m(V)), m(V).shape)"
   ]
  },
  {
   "cell_type": "code",
   "execution_count": 16,
   "metadata": {},
   "outputs": [
    {
     "data": {
      "text/plain": [
       "(10, 10)"
      ]
     },
     "execution_count": 16,
     "metadata": {},
     "output_type": "execute_result"
    }
   ],
   "source": [
    "m(V).shape"
   ]
  },
  {
   "cell_type": "code",
   "execution_count": 17,
   "metadata": {},
   "outputs": [
    {
     "name": "stdout",
     "output_type": "stream",
     "text": [
      "(array([0]), array([9]))\n"
     ]
    }
   ],
   "source": [
    "C1_idx = np.where(m(V) == m(V).max())\n",
    "C1_idx\n",
    "print(C1_idx)\n",
    "C1 = V[(0, range(len(C1_idx)), *C1_idx)]"
   ]
  },
  {
   "cell_type": "code",
   "execution_count": 18,
   "metadata": {},
   "outputs": [
    {
     "data": {
      "text/plain": [
       "(2, 10, 10)"
      ]
     },
     "execution_count": 18,
     "metadata": {},
     "output_type": "execute_result"
    }
   ],
   "source": [
    "V[0].shape"
   ]
  },
  {
   "cell_type": "code",
   "execution_count": 19,
   "metadata": {},
   "outputs": [],
   "source": [
    "_C1 = np.expand_dims(C1, axis=list(range(1, len(V[0].shape))))[np.newaxis, ...]"
   ]
  },
  {
   "cell_type": "code",
   "execution_count": 20,
   "metadata": {},
   "outputs": [
    {
     "data": {
      "text/plain": [
       "(1, 2, 1, 1)"
      ]
     },
     "execution_count": 20,
     "metadata": {},
     "output_type": "execute_result"
    }
   ],
   "source": [
    "_C1.shape"
   ]
  },
  {
   "cell_type": "markdown",
   "metadata": {},
   "source": [
    "## Third step\n",
    "* Selecting the cluster centers by sequentially destructing the mountain function"
   ]
  },
  {
   "cell_type": "code",
   "execution_count": 21,
   "metadata": {},
   "outputs": [],
   "source": [
    "def m_update(V, C1, beta):\n",
    "    C1_mass = np.exp(\n",
    "        - np.linalg.norm(\n",
    "            V[0] - C1.reshape(-1, 1, 1),\n",
    "            ord=2, axis=0\n",
    "        ) / (2 * beta ** 2)\n",
    "    )\n",
    "    \n",
    "    print(m(V).shape, np.linalg.norm(m(C1) - C1_mass))\n",
    "    \n",
    "    return m(V) - m(C1) * C1_mass"
   ]
  },
  {
   "cell_type": "code",
   "execution_count": 22,
   "metadata": {},
   "outputs": [
    {
     "name": "stdout",
     "output_type": "stream",
     "text": [
      "(10, 10) 0.6780258402435275\n"
     ]
    }
   ],
   "source": [
    "m_new = m_update(V, C1, 0.1)\n",
    "\n",
    "def new_cluster(m_new, V):\n",
    "    Cnew_idx = np.where(m_new == m_new.max())\n",
    "    Cnew = V[(0, [0, 1], *Cnew_idx)]\n",
    "    return Cnew\n",
    "\n",
    "Cnew = new_cluster(m_new, V)\n",
    "\n",
    "#np.testing.assert_array_equal(Cnew, np.array([1, 10])) # Expected [1, 10] as is the mean of the other gaussian"
   ]
  },
  {
   "cell_type": "code",
   "execution_count": 23,
   "metadata": {},
   "outputs": [
    {
     "data": {
      "text/plain": [
       "<matplotlib.image.AxesImage at 0x7f03d6b64790>"
      ]
     },
     "execution_count": 23,
     "metadata": {},
     "output_type": "execute_result"
    },
    {
     "data": {
      "image/png": "[encoded data removed]",
      "text/plain": [
       "<Figure size 432x288 with 1 Axes>"
      ]
     },
     "metadata": {
      "needs_background": "light"
     },
     "output_type": "display_data"
    }
   ],
   "source": [
    "plt.imshow(m_new[::-1])"
   ]
  },
  {
   "cell_type": "code",
   "execution_count": 24,
   "metadata": {},
   "outputs": [
    {
     "name": "stdout",
     "output_type": "stream",
     "text": [
      "(10, 10) 0.6780258402435275\n"
     ]
    }
   ],
   "source": [
    "m_new = m_update(V, C1, 0.1)"
   ]
  },
  {
   "cell_type": "code",
   "execution_count": 25,
   "metadata": {},
   "outputs": [
    {
     "data": {
      "text/plain": [
       "(2,)"
      ]
     },
     "execution_count": 25,
     "metadata": {},
     "output_type": "execute_result"
    }
   ],
   "source": [
    "Cnew.shape"
   ]
  },
  {
   "cell_type": "code",
   "execution_count": 26,
   "metadata": {},
   "outputs": [
    {
     "data": {
      "text/plain": [
       "(3, 2)"
      ]
     },
     "execution_count": 26,
     "metadata": {},
     "output_type": "execute_result"
    }
   ],
   "source": [
    "np.stack([np.ones(2) for _ in range(3)]).shape"
   ]
  },
  {
   "cell_type": "markdown",
   "metadata": {},
   "source": [
    "# Question\n",
    "* Stop criterio?\n",
    " + \" continues until a sufficient number of cluster centers is attained.\""
   ]
  }
 ],
 "metadata": {
  "kernelspec": {
   "display_name": "Python 3",
   "language": "python",
   "name": "python3"
  },
  "language_info": {
   "codemirror_mode": {
    "name": "ipython",
    "version": 3
   },
   "file_extension": ".py",
   "mimetype": "text/x-python",
   "name": "python",
   "nbconvert_exporter": "python",
   "pygments_lexer": "ipython3",
   "version": "3.8.2"
  }
 },
 "nbformat": 4,
 "nbformat_minor": 4
}
