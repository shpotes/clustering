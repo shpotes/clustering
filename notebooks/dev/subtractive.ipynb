{
 "cells": [
  {
   "cell_type": "code",
   "execution_count": 2,
   "metadata": {},
   "outputs": [],
   "source": [
    "from functools import partial\n",
    "import jax\n",
    "import jax.numpy as jnp\n",
    "from jax.ops import index, index_update\n",
    "import numpy as onp\n",
    "import matplotlib.pyplot as plt"
   ]
  },
  {
   "cell_type": "code",
   "execution_count": 3,
   "metadata": {},
   "outputs": [],
   "source": [
    "@partial(jax.jit, static_argnums=(2, 3,))\n",
    "def mountain_function(x, d, norm_ord, r_a):\n",
    "    norm = partial(jnp.linalg.norm, ord=norm_ord)\n",
    "    return jnp.exp(-norm((d - x), axis=1) / ((r_a / 2) ** 2)).sum(axis=-1)"
   ]
  },
  {
   "cell_type": "code",
   "execution_count": 4,
   "metadata": {},
   "outputs": [],
   "source": [
    "@jax.jit\n",
    "def get_cluster(x, density):\n",
    "    cluster_idx = jnp.argmax(density)\n",
    "    cluster = x[cluster_idx]\n",
    "    return cluster, density[cluster_idx]"
   ]
  },
  {
   "cell_type": "code",
   "execution_count": 5,
   "metadata": {},
   "outputs": [],
   "source": [
    "@partial(jax.jit, static_argnums=(0,))\n",
    "def subtractive_update(params, val):\n",
    "    idx, x, density, clusters, cluster_density = val\n",
    "    norm_ord, r_a = params\n",
    "    r_b = 1.5 * r_a\n",
    "    idx += 1\n",
    "    \n",
    "    cluster = clusters[idx - 1]\n",
    "    \n",
    "    cluster_mass = jnp.exp(\n",
    "        -jnp.linalg.norm(\n",
    "            jnp.squeeze(x) - cluster,\n",
    "            ord=norm_ord, axis=1\n",
    "        ) / ((r_b / 2) ** 2)\n",
    "    )\n",
    "    \n",
    "    near_cluster_density = mountain_function(\n",
    "        x, cluster[jnp.newaxis, ...], norm_ord, r_a\n",
    "    ) * cluster_mass\n",
    " \n",
    "    new_density = density - near_cluster_density\n",
    "    new_cluster, cluster_density = get_cluster(x, new_density)\n",
    "    \n",
    "    clusters = index_update(clusters, index[idx], jnp.squeeze(new_cluster))\n",
    "    \n",
    "    val = (idx, x, density, clusters, cluster_density)\n",
    "\n",
    "    return val"
   ]
  },
  {
   "cell_type": "code",
   "execution_count": 6,
   "metadata": {},
   "outputs": [],
   "source": [
    "@partial(jax.jit, static_argnums=(0, 1))\n",
    "def stop(thresh, initial_state, state):\n",
    "    return (state[-1] / initial_state[-1]) > thresh"
   ]
  },
  {
   "cell_type": "code",
   "execution_count": 7,
   "metadata": {},
   "outputs": [],
   "source": [
    "@partial(jax.jit, static_argnums=(1, 2, 3))\n",
    "def subtractive_run(x, norm_ord, r_a, thresh):\n",
    "    \n",
    "    d = x.T[jnp.newaxis, ...]\n",
    "    x = x[..., jnp.newaxis]\n",
    "    \n",
    "    density = mountain_function(x, d, norm_ord, r_a)\n",
    "    cluster, cluster_density = get_cluster(x, density)\n",
    "\n",
    "    idx = 0\n",
    "    params = (norm_ord, r_a)\n",
    "    \n",
    "    clusters = jnp.squeeze(jnp.zeros_like(x)) + jnp.nan\n",
    "     \n",
    "    clusters = index_update(\n",
    "        clusters,\n",
    "        index[idx],\n",
    "        jnp.squeeze(cluster)\n",
    "    )\n",
    "    \n",
    "    val = (idx, x, density, clusters, cluster_density)\n",
    "\n",
    "    state = jax.lax.while_loop(\n",
    "        partial(stop, thresh, val),\n",
    "        partial(subtractive_update, params),\n",
    "        val\n",
    "    )\n",
    "\n",
    "    return state"
   ]
  },
  {
   "cell_type": "code",
   "execution_count": 8,
   "metadata": {},
   "outputs": [
    {
     "name": "stderr",
     "output_type": "stream",
     "text": [
      "/home/shpotes/.cache/pypoetry/virtualenvs/clustering-tBf8LVkM-py3.8/lib/python3.8/site-packages/jax/lib/xla_bridge.py:130: UserWarning: No GPU/TPU found, falling back to CPU.\n",
      "  warnings.warn('No GPU/TPU found, falling back to CPU.')\n"
     ]
    }
   ],
   "source": [
    "X1 = onp.random.normal([1, 10], 0.05, size=(2, 2))\n",
    "y1 = onp.zeros(2)\n",
    "X2 = onp.random.normal([3, 5], 0.01, size=(3, 2))\n",
    "y2 = onp.ones(3)\n",
    "\n",
    "X = onp.vstack([X1, X2])\n",
    "y = onp.concatenate([y1, y2])\n",
    "\n",
    "idxs = onp.arange(5)\n",
    "onp.random.shuffle(idxs)\n",
    "X = X[idxs]\n",
    "y = y[idxs]\n",
    "\n",
    "X = jnp.array(X)\n",
    "y = jnp.array(y)"
   ]
  },
  {
   "cell_type": "code",
   "execution_count": null,
   "metadata": {},
   "outputs": [],
   "source": [
    "subtractive_run(X, 2, 0.3, 0.01)"
   ]
  },
  {
   "cell_type": "code",
   "execution_count": null,
   "metadata": {},
   "outputs": [],
   "source": [
    "x"
   ]
  },
  {
   "cell_type": "code",
   "execution_count": null,
   "metadata": {},
   "outputs": [],
   "source": []
  }
 ],
 "metadata": {
  "kernelspec": {
   "display_name": "Python 3",
   "language": "python",
   "name": "python3"
  },
  "language_info": {
   "codemirror_mode": {
    "name": "ipython",
    "version": 3
   },
   "file_extension": ".py",
   "mimetype": "text/x-python",
   "name": "python",
   "nbconvert_exporter": "python",
   "pygments_lexer": "ipython3",
   "version": "3.8.2"
  }
 },
 "nbformat": 4,
 "nbformat_minor": 4
}
